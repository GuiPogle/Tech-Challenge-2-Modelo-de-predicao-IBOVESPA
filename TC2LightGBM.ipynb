{
  "nbformat": 4,
  "nbformat_minor": 0,
  "metadata": {
    "colab": {
      "provenance": []
    },
    "kernelspec": {
      "name": "python3",
      "display_name": "Python 3"
    },
    "language_info": {
      "name": "python"
    }
  },
  "cells": [
    {
      "cell_type": "code",
      "source": [
        "# Importação das bibliotecas\n",
        "import pandas as pd\n",
        "import lightgbm as lgb\n",
        "from lightgbm import early_stopping, log_evaluation\n",
        "from sklearn.model_selection import TimeSeriesSplit\n",
        "from sklearn.metrics import accuracy_score, classification_report, log_loss"
      ],
      "metadata": {
        "id": "e-Z_70_979FF"
      },
      "execution_count": 51,
      "outputs": []
    },
    {
      "cell_type": "code",
      "source": [
        "# Dados tratados do IBOVESPA\n",
        "dados_ibovespa = pd.read_excel(\"Dados Tratados - Ibovespa.xlsx\")"
      ],
      "metadata": {
        "id": "TGbCfdZe79xE"
      },
      "execution_count": 52,
      "outputs": []
    },
    {
      "cell_type": "code",
      "source": [
        "# Limpeza e padronização dos nomes das colunas\n",
        "dados_ibovespa.columns = dados_ibovespa.columns.str.strip().str.replace(' ', '_')"
      ],
      "metadata": {
        "id": "nE8_w0Npzzga"
      },
      "execution_count": 53,
      "outputs": []
    },
    {
      "cell_type": "code",
      "source": [
        "def converter_volume_str_to_num(valor): # Converte 'M' (Milhões) e 'B' (Bilhões) para a quantidade real de casas decimais\n",
        "    valor = valor.replace('.', '').replace(',', '.') # Altera valores para estrutura de datatype 'float'\n",
        "    if 'M' in valor:\n",
        "        return float(valor.replace('M', '')) * 1e6\n",
        "    elif 'B' in valor:\n",
        "        return float(valor.replace('B', '')) * 1e9\n",
        "    else:\n",
        "        return float(valor)\n",
        "\n",
        "dados_ibovespa['Vol.'] = dados_ibovespa['Vol.'].apply(converter_volume_str_to_num) # Aplica função na coluna 'Vol.'"
      ],
      "metadata": {
        "id": "qC2RtSERz28K"
      },
      "execution_count": 54,
      "outputs": []
    },
    {
      "cell_type": "code",
      "source": [
        "dados_ibovespa['Data'] = pd.to_datetime(dados_ibovespa['Data'], dayfirst=True) # Transforma em datatype \"datetime\"\n",
        "\n",
        "dados_ibovespa = dados_ibovespa.sort_values('Data') # Organiza os registros da coluna 'Data' começando do mais antigo\n",
        "\n",
        "dados_ibovespa['Target'] = dados_ibovespa['Variacao'].shift(-1) # Cria uma coluna denominada 'Target', pega os valores da coluna 'Variacao' e desloca uma linha para cima, assim pegando o valor do dia atual para prever o do dia seguinte\n",
        "\n",
        "dados_ibovespa = dados_ibovespa.dropna() # Remoção de registros nulos\n",
        "\n",
        "dados_ibovespa['Target'] = dados_ibovespa['Target'].astype(int) # Transforma o datatype da coluna Target em int"
      ],
      "metadata": {
        "id": "raQVOjagz6GZ"
      },
      "execution_count": 55,
      "outputs": []
    },
    {
      "cell_type": "code",
      "source": [
        "# Fórmulas\n",
        "dados_ibovespa['retorno_diario'] = (dados_ibovespa['Ultimo'] - dados_ibovespa['Abertura']) / dados_ibovespa['Abertura'] # Variação diária do valor negociado do índice IBOVESPA\n",
        "dados_ibovespa['volatilidade'] = (dados_ibovespa['Maxima'] - dados_ibovespa['Minima']) / dados_ibovespa['Abertura'] # Variação relativa diária do índice Ibovespa em relação ao valor de abertura\n",
        "dados_ibovespa['posicao_no_dia'] = (dados_ibovespa['Ultimo'] - dados_ibovespa['Minima']) / (dados_ibovespa['Maxima'] - dados_ibovespa['Minima'] + 1e-6) # Relação do fechamento diário (próximo de 1 = perto da máxima; próximo de 0 = perto da mínima)\n",
        "\n",
        "dados_ibovespa['media_ultimos_3_dias'] = dados_ibovespa['Ultimo'].rolling(3).mean() # Média móvel dos últimos 3 dias do valor de fechamento\n",
        "dados_ibovespa['media_ultimos_5_dias'] = dados_ibovespa['Ultimo'].rolling(5).mean() # Média móvel dos últimos 5 dias do valor de fechamento\n",
        "dados_ibovespa['media_ultimos_10_dias'] = dados_ibovespa['Ultimo'].rolling(10).mean() # Média móvel dos últimos 10 dias do valor de fechamento\n",
        "dados_ibovespa['media_exp_5_dias'] = dados_ibovespa['Ultimo'].ewm(span=5, adjust=False).mean() # Média exponencial dos últimos 5 dias do valor de fechamento\n",
        "dados_ibovespa['media_exp_10_dias'] = dados_ibovespa['Ultimo'].ewm(span=10, adjust=False).mean() # Média exponencial dos últimos 10 dias do valor de fechamento\n",
        "\n",
        "dados_ibovespa['retorno_3_dias'] = dados_ibovespa['Ultimo'].pct_change(3) # Retorno percentual dos últimos 3 dias"
      ],
      "metadata": {
        "id": "T_oKVzl14CWp"
      },
      "execution_count": 56,
      "outputs": []
    },
    {
      "cell_type": "code",
      "source": [
        "dados_ibovespa['Dia_da_Semana'] = dados_ibovespa['Dia_da_Semana'].astype('category').cat.codes # Substitui string dos dias da semana por índices numéricos\n",
        "\n",
        "dados_ibovespa = dados_ibovespa.dropna() # Remoção de registros nulos (primeiros registros das fórmulas que calculam média baseando-se nos últimos)"
      ],
      "metadata": {
        "id": "pf-a1iUo4HtH"
      },
      "execution_count": 57,
      "outputs": []
    },
    {
      "cell_type": "code",
      "source": [
        "# Divisão dos dados entre treino e teste\n",
        "dados_treino = dados_ibovespa.iloc[:-30]\n",
        "dados_teste = dados_ibovespa.iloc[-30:]"
      ],
      "metadata": {
        "id": "vDl5ZybO4JuQ"
      },
      "execution_count": 58,
      "outputs": []
    },
    {
      "cell_type": "code",
      "source": [
        "# Separação das features e do alvo no treino\n",
        "features = dados_treino.drop(columns=['Data', 'Variacao', 'Target'])\n",
        "alvo = dados_treino['Target']"
      ],
      "metadata": {
        "id": "A2y4RoB24MN-"
      },
      "execution_count": 59,
      "outputs": []
    },
    {
      "cell_type": "code",
      "source": [
        "# Configurar validação cruzada temporal\n",
        "numero_folds = TimeSeriesSplit(n_splits=3)\n",
        "\n",
        "accuracies = []\n",
        "reports = []\n",
        "\n",
        "fold = 1\n",
        "for train_index, val_index in numero_folds.split(features):\n",
        "    print(f\"\\nFold {fold}\")\n",
        "    features_train, features_val = features.iloc[train_index], features.iloc[val_index]\n",
        "    alvo_train, alvo_val = alvo.iloc[train_index], alvo.iloc[val_index]\n",
        "\n",
        "    model = lgb.LGBMClassifier(\n",
        "        n_estimators=2000,\n",
        "        learning_rate=0.01,\n",
        "        num_leaves=60,\n",
        "        max_depth=-1,\n",
        "        class_weight='balanced',\n",
        "        random_state=50,\n",
        "        verbosity=-1\n",
        "    )\n",
        "\n",
        "    model.fit(\n",
        "        features_train, alvo_train,\n",
        "        eval_set=[(features_val, alvo_val)],\n",
        "        eval_metric='binary_logloss',\n",
        "        callbacks=[\n",
        "            early_stopping(stopping_rounds=100),\n",
        "            log_evaluation(period=100)\n",
        "        ]\n",
        "    )\n",
        "\n",
        "    alvo_pred = model.predict(features_val)\n",
        "    acc = accuracy_score(alvo_val, alvo_pred)\n",
        "    print(f\"Acurácia Fold {fold}: {acc:.5f}\")\n",
        "\n",
        "    accuracies.append(acc)\n",
        "    reports.append(classification_report(alvo_val, alvo_pred, output_dict=True))\n",
        "\n",
        "    fold += 1\n",
        "\n",
        "# Preparar dados de teste\n",
        "features_teste = dados_teste.drop(columns=['Data', 'Variacao', 'Target'])\n",
        "alvo_teste = dados_teste['Target']\n",
        "\n",
        "# Treinar modelo final com todos os dados de treino\n",
        "modelo_teste = lgb.LGBMClassifier(\n",
        "    n_estimators=2000,\n",
        "    learning_rate=0.01,\n",
        "    num_leaves=60,\n",
        "    max_depth=-1,\n",
        "    class_weight='balanced',\n",
        "    random_state=50,\n",
        "    verbosity=-1\n",
        ")\n",
        "\n",
        "modelo_teste.fit(features, alvo);\n",
        "\n",
        "# Fazer predição probabilística no teste\n",
        "pred_proba = modelo_teste.predict_proba(features_teste)[:, 1]\n",
        "# Aplicar threshold customizado para decidir classes\n",
        "threshold = 0.19\n",
        "predicoes = (pred_proba >= threshold).astype(int)\n",
        "# Avaliar resultados no teste\n",
        "acc_final = accuracy_score(alvo_teste, predicoes)\n",
        "print(f\"\\nAcurácia Final: {acc_final:.5f}\")"
      ],
      "metadata": {
        "colab": {
          "base_uri": "https://localhost:8080/"
        },
        "id": "UYNDftSW0o5B",
        "outputId": "7211e90e-5f2b-4729-dd64-f1a493a790a9"
      },
      "execution_count": 60,
      "outputs": [
        {
          "output_type": "stream",
          "name": "stdout",
          "text": [
            "\n",
            "Fold 1\n",
            "Training until validation scores don't improve for 100 rounds\n",
            "[100]\tvalid_0's binary_logloss: 0.545205\n",
            "[200]\tvalid_0's binary_logloss: 0.552327\n",
            "Early stopping, best iteration is:\n",
            "[118]\tvalid_0's binary_logloss: 0.541232\n",
            "Acurácia Fold 1: 0.74751\n",
            "\n",
            "Fold 2\n",
            "Training until validation scores don't improve for 100 rounds\n",
            "[100]\tvalid_0's binary_logloss: 0.568809\n",
            "[200]\tvalid_0's binary_logloss: 0.548577\n",
            "[300]\tvalid_0's binary_logloss: 0.545009\n",
            "Early stopping, best iteration is:\n",
            "[259]\tvalid_0's binary_logloss: 0.544802\n",
            "Acurácia Fold 2: 0.75083\n",
            "\n",
            "Fold 3\n",
            "Training until validation scores don't improve for 100 rounds\n",
            "[100]\tvalid_0's binary_logloss: 0.551105\n",
            "[200]\tvalid_0's binary_logloss: 0.543698\n",
            "Early stopping, best iteration is:\n",
            "[180]\tvalid_0's binary_logloss: 0.540804\n",
            "Acurácia Fold 3: 0.73422\n",
            "\n",
            "Acurácia Final: 0.76667\n"
          ]
        }
      ]
    }
  ]
}