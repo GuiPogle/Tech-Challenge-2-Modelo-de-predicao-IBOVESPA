{
  "nbformat": 4,
  "nbformat_minor": 0,
  "metadata": {
    "colab": {
      "provenance": []
    },
    "kernelspec": {
      "name": "python3",
      "display_name": "Python 3"
    },
    "language_info": {
      "name": "python"
    }
  },
  "cells": [
    {
      "cell_type": "code",
      "source": [
        "# Importação das bibiliotecas\n",
        "import pandas as pd\n",
        "import lightgbm as lgb\n",
        "from lightgbm import early_stopping, log_evaluation\n",
        "from sklearn.model_selection import TimeSeriesSplit\n",
        "from sklearn.metrics import accuracy_score, classification_report\n"
      ],
      "metadata": {
        "id": "a4AG0-m1YHSc"
      },
      "execution_count": 137,
      "outputs": []
    },
    {
      "cell_type": "code",
      "source": [
        "#Dados tratados do IBOVESPA\n",
        "dados_ibovespa = pd.read_excel(\"Dados Tratados - Ibovespa.xlsx\")"
      ],
      "metadata": {
        "id": "ff9ZVi8y-Oea"
      },
      "execution_count": 138,
      "outputs": []
    },
    {
      "cell_type": "code",
      "source": [
        "dados_ibovespa.columns = dados_ibovespa.columns.str.strip().str.replace(' ', '_') # Remove espaços nas extremidades das colunas e substitui espaços internos por '_'"
      ],
      "metadata": {
        "id": "TIlhCkTlA7Jd"
      },
      "execution_count": 139,
      "outputs": []
    },
    {
      "cell_type": "code",
      "source": [
        "def converter_volume_str_to_num(valor): # Converte 'M' (Milhões) e 'B' (Bilhões) para a quantidade real de casas decimais\n",
        "    valor = valor.replace('.', '').replace(',', '.')\n",
        "    if 'M' in valor:\n",
        "        return float(valor.replace('M', '')) * 1e6\n",
        "    elif 'B' in valor:\n",
        "        return float(valor.replace('B', '')) * 1e9\n",
        "    else:\n",
        "        return float(valor)\n",
        "\n",
        "dados_ibovespa['Vol.'] = dados_ibovespa['Vol.'].apply(converter_volume_str_to_num) # Aplica função na coluna 'Vol.'"
      ],
      "metadata": {
        "id": "iVYnPUVCA4S8"
      },
      "execution_count": 140,
      "outputs": []
    },
    {
      "cell_type": "code",
      "source": [
        "dados_ibovespa['Data'] = pd.to_datetime(dados_ibovespa['Data'], dayfirst=True) # Transforma em datatype \"datetime\"\n",
        "dados_ibovespa = dados_ibovespa.sort_values('Data') # Organiza os registros da coluna 'Data' começando do mais antigo"
      ],
      "metadata": {
        "id": "zL7hafT7A_3A"
      },
      "execution_count": 141,
      "outputs": []
    },
    {
      "cell_type": "code",
      "source": [
        "dados_ibovespa['Target'] = dados_ibovespa['Variacao'].shift(-1) # Cria uma coluna denominada 'Target', pega os valores da coluna 'Variacao' e desloca uma linha para cima, assim pegando o valor do dia atual para prever o do dia seguinte\n",
        "dados_ibovespa = dados_ibovespa.dropna() # Remoção de registros nulos\n",
        "dados_ibovespa['Target'] = dados_ibovespa['Target'].astype(int) # Transforma o datatype da coluna Target em int"
      ],
      "metadata": {
        "id": "-AXT2KjOBC22"
      },
      "execution_count": 142,
      "outputs": []
    },
    {
      "cell_type": "code",
      "source": [
        "# Fórmulas\n",
        "dados_ibovespa['retorno_diario'] = (dados_ibovespa['Ultimo'] - dados_ibovespa['Abertura']) / dados_ibovespa['Abertura'] # Variação diária do valor negociado do índice IBOVESPA\n",
        "dados_ibovespa['volatilidade'] = (dados_ibovespa['Maxima'] - dados_ibovespa['Minima']) / dados_ibovespa['Abertura'] # Variação relativa diária do índice Ibovespa em relação ao valor de abertura\n",
        "dados_ibovespa['posicao_no_dia'] = (dados_ibovespa['Ultimo'] - dados_ibovespa['Minima']) / (dados_ibovespa['Maxima'] - dados_ibovespa['Minima'] + 1e-6) # Relação do fechamento diário (próximo de 1 = perto da máxima; próximo de 0 = perto da mínima)\n",
        "# 1e-6 evita divisão por zero, que pode acontecer em alguns casos\n",
        "dados_ibovespa['media_ultimos_3_dias'] = dados_ibovespa['Ultimo'].rolling(3).mean() # Média móvel dos últimos 3 dias do valor de fechamento\n",
        "dados_ibovespa['media_ultimos_5_dias'] = dados_ibovespa['Ultimo'].rolling(window=5).mean()   # Média móvel dos últimos 5 dias do valor de fechamento\n",
        "dados_ibovespa['media_ultimos_10_dias'] = dados_ibovespa['Ultimo'].rolling(window=10).mean() # Média móvel dos últimos 10 dias do valor de fechamento\n",
        "dados_ibovespa['media_exp_5_dias'] = dados_ibovespa['Ultimo'].ewm(span=5, adjust=False).mean()   # Média exponencial dos últimos 5 dias do valor de fechamento\n",
        "dados_ibovespa['media_exp_10_dias'] = dados_ibovespa['Ultimo'].ewm(span=10, adjust=False).mean() # Média exponencial dos últimos 10 dias do valor de fechamento\n",
        "\n",
        "dados_ibovespa['retorno_3_dias'] = dados_ibovespa['Ultimo'].pct_change(3) # Retorno percentual dos últimos 3 dias"
      ],
      "metadata": {
        "id": "-dLno84UBFbQ"
      },
      "execution_count": 143,
      "outputs": []
    },
    {
      "cell_type": "code",
      "source": [
        "dados_ibovespa['Dia_da_Semana'] = dados_ibovespa['Dia_da_Semana'].astype('category').cat.codes # Substitui string dos dias da semana por índices numéricos"
      ],
      "metadata": {
        "id": "5h1Kd_IIBLRK"
      },
      "execution_count": 144,
      "outputs": []
    },
    {
      "cell_type": "code",
      "source": [
        "dados_ibovespa = dados_ibovespa.dropna() # Remoção de registros nulos (primeiros registros das fórmulas que calculam média baseando-se nos últimos)\n",
        "features = dados_ibovespa.drop(columns=['Data', 'Variacao', 'Target']) #Dataframe com as features\n",
        "alvo = dados_ibovespa['Target']"
      ],
      "metadata": {
        "id": "GWpKB9PLBOcl"
      },
      "execution_count": 145,
      "outputs": []
    },
    {
      "cell_type": "code",
      "source": [
        "numero_folds = TimeSeriesSplit(n_splits = 3) # Definir quantidade de folds --------------------------------------------------------------------------\n",
        "accuracies = []\n",
        "reports = []"
      ],
      "metadata": {
        "id": "VRNjqNirBRJu"
      },
      "execution_count": 146,
      "outputs": []
    },
    {
      "cell_type": "code",
      "source": [
        "\n",
        "fold = 1\n",
        "for train_index, val_index in numero_folds.split(features): # Aumenta progressivamente a base para treino do modelo\n",
        "    print(f\"\\nFold {fold}\")\n",
        "    features_train, features_val = features.iloc[train_index], features.iloc[val_index] # Variáveis criadas\n",
        "    alvo_train, alvo_val = alvo.iloc[train_index], alvo.iloc[val_index] # O que o modelo deve prever\n",
        "\n",
        "    model = lgb.LGBMClassifier( # Parâmetros do modelo (treinamento)\n",
        "        n_estimators = 2000, # número de árvores\n",
        "        learning_rate = 0.01, # Tempo para o aprendizado\n",
        "        num_leaves = 60, # Quantidade de \"folhas\" das árvores\n",
        "        max_depth = -1, #\n",
        "        class_weight = 'balanced',\n",
        "        random_state = 50, # Início aleatório do algoritmo\n",
        "        verbosity = -1 # Remove mensagens de log\n",
        "    )\n",
        "\n",
        "    model.fit(\n",
        "    features_train, alvo_train,\n",
        "    eval_set=[(features_val, alvo_val)],\n",
        "    eval_metric='binary_logloss', # Mede a qualidade das previsões do modelo (abaixo de 0.5 = considerado bom, perto de 0.5 = deve melhorar, muito acima de 0.5 = ruim)\n",
        "    callbacks=[\n",
        "        early_stopping(stopping_rounds=100),\n",
        "        log_evaluation(period=100)\n",
        "    ]\n",
        ")\n",
        "\n",
        "    alvo_pred = model.predict(features_val)\n",
        "    acc = accuracy_score(alvo_val, alvo_pred)\n",
        "    print(f\"Acurácia Fold {fold}: {acc:.5f}\")\n",
        "\n",
        "    accuracies.append(acc)\n",
        "    reports.append(classification_report(alvo_val, alvo_pred, output_dict=True))\n",
        "\n",
        "    fold += 1\n",
        "\n",
        "    modelo_teste = lgb.LGBMClassifier( # Parâmetros do modelo (teste)\n",
        "   n_estimators = 2000,\n",
        "   learning_rate = 0.01,\n",
        "   num_leaves = 60,\n",
        "   max_depth = -1,\n",
        "   class_weight = 'balanced',\n",
        "   random_state = 50,\n",
        "   verbosity = -1\n",
        ")\n",
        "\n",
        "modelo_teste.fit(features, alvo); # Teste com todos os dados"
      ],
      "metadata": {
        "colab": {
          "base_uri": "https://localhost:8080/"
        },
        "id": "I-A9Vpcvtt8C",
        "outputId": "26538ad8-fae3-4110-d752-ce02d67939d7"
      },
      "execution_count": 155,
      "outputs": [
        {
          "output_type": "stream",
          "name": "stdout",
          "text": [
            "\n",
            "Fold 1\n",
            "Training until validation scores don't improve for 100 rounds\n",
            "[100]\tvalid_0's binary_logloss: 0.562695\n",
            "[200]\tvalid_0's binary_logloss: 0.575711\n",
            "Early stopping, best iteration is:\n",
            "[112]\tvalid_0's binary_logloss: 0.561309\n",
            "Acurácia Fold 1: 0.72403\n",
            "\n",
            "Fold 2\n",
            "Training until validation scores don't improve for 100 rounds\n",
            "[100]\tvalid_0's binary_logloss: 0.563267\n",
            "[200]\tvalid_0's binary_logloss: 0.540719\n",
            "[300]\tvalid_0's binary_logloss: 0.534734\n",
            "Early stopping, best iteration is:\n",
            "[277]\tvalid_0's binary_logloss: 0.533726\n",
            "Acurácia Fold 2: 0.75649\n",
            "\n",
            "Fold 3\n",
            "Training until validation scores don't improve for 100 rounds\n",
            "[100]\tvalid_0's binary_logloss: 0.552247\n",
            "[200]\tvalid_0's binary_logloss: 0.536027\n",
            "Early stopping, best iteration is:\n",
            "[183]\tvalid_0's binary_logloss: 0.534615\n",
            "Acurácia Fold 3: 0.75000\n"
          ]
        }
      ]
    },
    {
      "cell_type": "code",
      "source": [
        "dia_seguinte = features.tail(1) # Pega último registro e o utiliza pro algoritmo prever a subida ou queda do IBOVESPA do dia seguinte\n",
        "previsao = modelo_teste.predict(dia_seguinte)\n",
        "print(\"\\nIBOVESPA irá subir amanhã?\", \"Sim\" if previsao[0] == 1 else \"Não\")"
      ],
      "metadata": {
        "colab": {
          "base_uri": "https://localhost:8080/"
        },
        "id": "BPHAw6gaHuU4",
        "outputId": "49f1c0ae-81e5-413c-889b-2a33c68929c6"
      },
      "execution_count": 150,
      "outputs": [
        {
          "output_type": "stream",
          "name": "stdout",
          "text": [
            "\n",
            "IBOVESPA irá subir amanhã? Não\n"
          ]
        }
      ]
    }
  ]
}